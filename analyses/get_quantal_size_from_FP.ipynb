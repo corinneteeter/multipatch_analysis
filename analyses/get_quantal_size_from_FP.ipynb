{
 "cells": [
  {
   "cell_type": "markdown",
   "metadata": {},
   "source": [
    "Estimate how many first pulses will be needed to estimate the quantal size for different \n",
    "probabilities of release and different numbers of contact cites.  Here, I assume that the \n",
    "probablility of release at each site is independent and homogenous."
   ]
  },
  {
   "cell_type": "code",
   "execution_count": 3,
   "metadata": {
    "collapsed": false
   },
   "outputs": [
    {
     "data": {
      "text/plain": [
       "array([ 0.1,  0.2,  0.3,  0.4,  0.5,  0.6,  0.7,  0.8,  0.9])"
      ]
     },
     "execution_count": 3,
     "metadata": {},
     "output_type": "execute_result"
    }
   ],
   "source": [
    "import numpy as np"
   ]
  },
  {
   "cell_type": "code",
   "execution_count": 15,
   "metadata": {
    "collapsed": false
   },
   "outputs": [
    {
     "name": "stdout",
     "output_type": "stream",
     "text": [
      "[1.0, 10.0, 100.0, 1000.0, 10000.0, 100000.0, 1000000.0, 10000000.0, 100000000.0, 1000000000.0, 10000000000.0]\n"
     ]
    }
   ],
   "source": [
    "def first_pulses_needed(n):\n",
    "    prob_matrix=[]\n",
    "    for h in range(n+1):  #h is number of quantal releases\n",
    "        prob_of_getting_h=[]\n",
    "        for prob_of_release in np.arange(.1,1,.1): #prob_of_release is the probablility of a vesicle releasing at any given cite\n",
    "            pre_term=np.math.factorial(n)/(np.math.factorial(n-h)*np.math.factorial(h))\n",
    "            post_term=prob_of_release**h * (1-prob_of_release)**(n-h)\n",
    "            prob_of_getting_h.append(pre_term*post_term)\n",
    "        prob_matrix.append(prob_of_getting_h)\n",
    "    num_needed_observations=np.round(1/np.array(prob_matrix))\n",
    "    return np.max(num_needed_observations), prob_matrix, num_needed_observations\n",
    "\n",
    "spikes=[]\n",
    "for ii in range(0,11):\n",
    "    spikes.append(first_pulses_needed(ii)[0])\n",
    "    \n",
    "print spikes"
   ]
  },
  {
   "cell_type": "code",
   "execution_count": 4,
   "metadata": {
    "collapsed": false
   },
   "outputs": [
    {
     "data": {
      "text/plain": [
       "24"
      ]
     },
     "execution_count": 4,
     "metadata": {},
     "output_type": "execute_result"
    }
   ],
   "source": [
    "Well that is not going to work!"
   ]
  },
  {
   "cell_type": "code",
   "execution_count": 9,
   "metadata": {
    "collapsed": false
   },
   "outputs": [
    {
     "data": {
      "text/plain": [
       "3.3333333333333335"
      ]
     },
     "execution_count": 9,
     "metadata": {},
     "output_type": "execute_result"
    }
   ],
   "source": [
    "1/.3"
   ]
  },
  {
   "cell_type": "code",
   "execution_count": null,
   "metadata": {
    "collapsed": true
   },
   "outputs": [],
   "source": []
  }
 ],
 "metadata": {
  "kernelspec": {
   "display_name": "Python 2",
   "language": "python",
   "name": "python2"
  },
  "language_info": {
   "codemirror_mode": {
    "name": "ipython",
    "version": 2
   },
   "file_extension": ".py",
   "mimetype": "text/x-python",
   "name": "python",
   "nbconvert_exporter": "python",
   "pygments_lexer": "ipython2",
   "version": "2.7.12"
  }
 },
 "nbformat": 4,
 "nbformat_minor": 2
}
