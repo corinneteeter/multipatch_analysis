{
 "cells": [
  {
   "cell_type": "code",
   "execution_count": 1,
   "metadata": {},
   "outputs": [],
   "source": [
    "import pandas as pd\n",
    "import matplotlib.pyplot as plt\n",
    "import os\n",
    "import numpy as np\n",
    "%matplotlib inline\n",
    "import scipy.stats as stats"
   ]
  },
  {
   "cell_type": "code",
   "execution_count": 2,
   "metadata": {},
   "outputs": [],
   "source": [
    "path='/home/corinnet/workspace/aiephys/rundown_results/'\n",
    "connection_folders=[os.path.join(path, d) for d in os.listdir(path)] \n",
    "\n",
    "# get all the csv files\n",
    "csvs=[]\n",
    "for folder in connection_folders:\n",
    "    files=os.listdir(folder)\n",
    "    try:\n",
    "        csvs.append(os.path.join(folder,np.array(files)[np.array([file.endswith('.csv') for file in files])][0]))\n",
    "    except:\n",
    "        pass\n",
    "#print csvs"
   ]
  },
  {
   "cell_type": "code",
   "execution_count": 3,
   "metadata": {},
   "outputs": [],
   "source": [
    "# #Plot time versus amplitude\n",
    "# for file in csvs:\n",
    "#     df = pd.read_csv(file)\n",
    "# #    df=df.sort_values(by=['command_t0'])\n",
    "#     measured_amp=df['measured_amp'].values\n",
    "#     fit_amp=df['fit_amp'].values\n",
    "#     time=df['time'].values/60.\n",
    "# #    sweep=df['sweep_id']\n",
    "#     slope_measured, intercept_measured, _, _, _=stats.linregress(time, measured_amp)\n",
    "#     slope_fit, intercept_fit, _, _, _=stats.linregress(time, fit_amp)\n",
    "#     plt.figure()\n",
    "#     plt.plot(time, measured_amp*1e3, 'b', label='measured')\n",
    "#     plt.plot(time, (slope_measured*time+intercept_measured)*1e3, 'b--')\n",
    "    \n",
    "#     plt.plot(time, fit_amp*1e3, 'c', label='fit')\n",
    "#     plt.plot(time, (slope_fit*time+intercept_fit)*1e3, 'c--')\n",
    "\n",
    "#     plt.title(os.path.dirname(file).split('/')[-1])\n",
    "#     plt.ylabel('voltage (mV)')\n",
    "#     plt.xlabel('time (min)')\n",
    "#     plt.legend()"
   ]
  },
  {
   "cell_type": "code",
   "execution_count": 4,
   "metadata": {},
   "outputs": [],
   "source": [
    "# These are all pretty good fits\n",
    "sim1=['1487367784.96_6_2_sim1_sim1',\n",
    "        '1497469151.70_8_1_sim1_sim1',\n",
    "        '1497469151.70_1_8_sim1_sim1',\n",
    "        '1487376645.68_1_7_sim1_sim1',\n",
    "        '1497469151.70_8_5_sim1_sim1',\n",
    "        '1497468556.18_8_2_sim1_sim1',\n",
    "        '1497468556.18_8_6_sim1_sim1',\n",
    "        '1490651901.46_4_8_sim1_sim1',\n",
    "        '1487107236.82_7_5_sim1_sim1',\n",
    "        '1487107236.82_7_2_sim1_sim1',\n",
    "        '1490651407.27_2_5_sim1_sim1',\n",
    "        '1497469151.70_1_2_sim1_sim1'] #12\n",
    "\n",
    "           \n",
    "unknown=['1523470754.85_6_4_unknown_unknown',           \n",
    "        '1501101571.17_1_5_unknown_unknown',\n",
    "        '1501792378.34_2_8_unknown_unknown',\n",
    "        '1501104688.89_7_3_unknown_unknown',\n",
    "        '1501101571.17_7_5_unknown_unknown',\n",
    "        '1502301827.80_8_6_unknown_unknown',\n",
    "        '1502301827.80_6_8_unknown_unknown',\n",
    "        '1501627688.56_3_8_unknown_unknown',\n",
    "        '1501792378.34_8_2_unknown_unknown',\n",
    "        '1501090950.86_8_1_unknown_unknown'] #9\n",
    "\n",
    "           \n",
    "tlx3=['1485904693.10_8_2_tlx3_tlx3',\n",
    "        '1492545925.15_8_6_tlx3_tlx3',\n",
    "        '1502920642.09_7_8_tlx3_tlx3',\n",
    "        '1492545925.15_4_2_tlx3_tlx3',\n",
    "        '1492812013.49_5_3_tlx3_tlx3',\n",
    "        '1492545925.15_2_4_tlx3_tlx3',\n",
    "        '1492468194.97_6_5_tlx3_tlx3',\n",
    "        '1492460382.78_6_2_tlx3_tlx3',\n",
    "        '1492545925.15_8_5_tlx3_tlx3'] #9\n",
    "           \n",
    "rorb=['1523470754.85_3_4_rorb_rorb',\n",
    "        '1523470754.85_7_3_rorb_rorb',\n",
    "        '1523470754.85_4_6_rorb_rorb',\n",
    "        '1523470754.85_7_6_rorb_rorb',\n",
    "        '1523470754.85_7_4_rorb_rorb'] #5"
   ]
  },
  {
   "cell_type": "code",
   "execution_count": 5,
   "metadata": {},
   "outputs": [
    {
     "name": "stdout",
     "output_type": "stream",
     "text": [
      "['/home/corinnet/workspace/aiephys/rundown_results/1523470754.85_3_4_rorb_rorb/rundown08_03_2018.csv']\n",
      "1\n",
      "['/home/corinnet/workspace/aiephys/rundown_results/1523470754.85_7_3_rorb_rorb/rundown08_03_2018.csv']\n",
      "1\n",
      "['/home/corinnet/workspace/aiephys/rundown_results/1523470754.85_4_6_rorb_rorb/rundown08_03_2018.csv']\n",
      "1\n",
      "['/home/corinnet/workspace/aiephys/rundown_results/1523470754.85_7_6_rorb_rorb/rundown08_03_2018.csv']\n",
      "1\n",
      "['/home/corinnet/workspace/aiephys/rundown_results/1523470754.85_7_4_rorb_rorb/rundown08_03_2018.csv']\n",
      "1\n"
     ]
    }
   ],
   "source": [
    "for s in rorb:\n",
    "    file=[file for file in csvs if s in file]\n",
    "    print file\n",
    "    print len(file)"
   ]
  },
  {
   "cell_type": "code",
   "execution_count": 6,
   "metadata": {},
   "outputs": [
    {
     "name": "stdout",
     "output_type": "stream",
     "text": [
      "('sim1:', -0.6690332568387758)\n",
      "('rorb:', -3.8787846727936346)\n",
      "('unknown:', -3.672959468490054)\n",
      "('tlx3:', -1.9055998838499089)\n"
     ]
    }
   ],
   "source": [
    "#get mV decay per min\n",
    "\n",
    "def percent_decay(good_expt_list):\n",
    "    percent_per_min=[]\n",
    "    for s in good_expt_list:\n",
    "        file=[file for file in csvs if s in file]\n",
    "        if len(file)>1: raise Exception()\n",
    "        df = pd.read_csv(file[0])\n",
    "        fit_amp=df['fit_amp'].values\n",
    "        time=df['time'].values/60.\n",
    "        slope_fit, intercept_fit, _, _, _=stats.linregress(time, fit_amp)\n",
    "        percent_per_min.append((slope_fit/intercept_fit)*100)\n",
    "    return np.mean(percent_per_min)\n",
    "\n",
    "print ('sim1:', percent_decay(sim1))\n",
    "print ('rorb:', percent_decay(rorb))\n",
    "print ('unknown:', percent_decay(unknown))\n",
    "print ('tlx3:', percent_decay(tlx3))"
   ]
  },
  {
   "cell_type": "code",
   "execution_count": null,
   "metadata": {},
   "outputs": [],
   "source": []
  },
  {
   "cell_type": "code",
   "execution_count": null,
   "metadata": {},
   "outputs": [],
   "source": []
  },
  {
   "cell_type": "code",
   "execution_count": null,
   "metadata": {},
   "outputs": [],
   "source": []
  }
 ],
 "metadata": {
  "kernelspec": {
   "display_name": "Python 2",
   "language": "python",
   "name": "python2"
  },
  "language_info": {
   "codemirror_mode": {
    "name": "ipython",
    "version": 2
   },
   "file_extension": ".py",
   "mimetype": "text/x-python",
   "name": "python",
   "nbconvert_exporter": "python",
   "pygments_lexer": "ipython2",
   "version": "2.7.15"
  }
 },
 "nbformat": 4,
 "nbformat_minor": 2
}
