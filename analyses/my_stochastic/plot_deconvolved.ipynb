{
 "cells": [
  {
   "cell_type": "code",
   "execution_count": null,
   "metadata": {
    "collapsed": false
   },
   "outputs": [],
   "source": [
    "import pandas as pd \n",
    "import numpy as np\n",
    "import matplotlib\n",
    "import matplotlib.pyplot as plt\n",
    "%matplotlib inline\n",
    "#need to add in qc and mean\n",
    "# still need to add pre synaptic spike number qc. ie.e does more than one presynaptic spike happen?\n",
    "# what if a postsynaptic pulse happens and it does not pass qc "
   ]
  },
  {
   "cell_type": "code",
   "execution_count": null,
   "metadata": {
    "collapsed": false
   },
   "outputs": [],
   "source": [
    "def get_data_from_csv(filename):\n",
    "    data = pd.read_csv(filename)\n",
    "    d={}\n",
    "    d['amps'] = []\n",
    "    d['spike_times_relative_to_expt'] = []\n",
    "    d['post_syn_rec_id'] = []\n",
    "    d['expt_start_time'] = []\n",
    "    d['post_id'] = data['post_id']\n",
    "    d['pre_id'] = data['pre_id']\n",
    "    d['uid'] = data['uid']\n",
    "    d['stim_freq'] = []\n",
    "    d['pulse_num_within_train'] = []\n",
    "#    d['qc_mask'] = []\n",
    "    \n",
    "    #convert weird string from cvs to arrays\n",
    "    for ii in range(len(data)):\n",
    "        d['amps'].append(np.fromstring(data['deconvolved_amps'][ii].replace('\\n', '').replace('[', '').replace(']', ''), dtype=float, sep=' '))\n",
    "        d['spike_times_relative_to_expt'].append(np.fromstring(data['spike_times_relative_to_experiment'][ii].replace('\\n', '').replace('[', '').replace(']', ''), dtype=float, sep=' '))\n",
    "        d['expt_start_time'].append(d['spike_times_relative_to_expt'][-1][0])\n",
    "        d['post_syn_rec_id'].append(np.fromstring(data['post_syn_rec_id'][ii].replace('\\n', '').replace('[', '').replace(']', ''), dtype=int, sep=' '))\n",
    "        d['pulse_num_within_train'].append(np.fromstring(data['post_syn_rec_id'][ii].replace('\\n', '').replace('[', '').replace(']', ''), dtype=int, sep=' '))\n",
    "        #print(data['stim_freq'][ii])\n",
    "        d['stim_freq'].append(np.fromstring(data['stim_freq'][ii].replace('\\n', '').replace('[', '').replace(']', ''), dtype=float, sep=' '))\n",
    "        if (len(d['amps'][-1]) != len(d['spike_times_relative_to_expt'][-1])) or \\\n",
    "            (len(d['amps'][-1]) != len(d['post_syn_rec_id'][-1])) or \\\n",
    "            (len(d['amps'][-1]) != len(d['stim_freq'][-1])) or \\\n",
    "            (len(d['amps'][-1]) != len(d['pulse_num_within_train'][-1])):\n",
    "            raise Exception('string to array conversion probably went wrong')\n",
    "    return d\n",
    "\n",
    "filename='pv_tlx_to_sst.csv'\n",
    "data=get_data_from_csv(filename)"
   ]
  },
  {
   "cell_type": "code",
   "execution_count": null,
   "metadata": {
    "collapsed": false
   },
   "outputs": [],
   "source": [
    "for ii in range(len(data)):\n",
    "    plt.figure(figsize=(15,10))\n",
    "    \n",
    "    # plot whole experiment\n",
    "    sample=range(0,len(data['amps']))\n",
    "    plt.plot(data['spike_times_relative_to_expt'][ii][sample], data['amps'][ii][sample], '.-', ms=20)\n",
    "    # for ii, (p,t,a) in enumerate(zip(pulse_ids[sample], spike_times_relative_to_expt[sample], amplitudes[sample]*1e3)):\n",
    "    #     plt.annotate(str(ii), xy=(t,a), textcoords='data')\n",
    "    plt.ylabel('Deconvolution Arbitrary Units')\n",
    "    plt.xlabel('time (unknown units)')\n",
    "    plt.title('Deconvolution Amplitude\\n%.3f, pre %i, post %i' %(data['uid'][ii], data['pre_id'][ii], data['post_id'][ii]))\n",
    "    \n",
    "    # differentiate individual trains and put them in a dictionary for dataFrame\n",
    "    conn_dict={}\n",
    "    conn_dict['train_num'] = []\n",
    "    conn_dict['post_rec_id'] = []\n",
    "    conn_dict['amps'] = []\n",
    "    conn_dict['times_rel_to_expt'] = []\n",
    "    conn_dict['times_rel_to_train'] = []\n",
    "    conn_dict['pulse_num_within_train'] = [] \n",
    "    conn_dict['stim_freq'] = []\n",
    "\n",
    "    plt.figure(figsize=(15,10))\n",
    "    start_train_index = 0\n",
    "    end_train_index = 0\n",
    "    train_num = 1\n",
    "    train_id = data['post_syn_rec_id'][ii]\n",
    "    for jj in range(1, len(train_id)):\n",
    "        if (train_id[jj-1] != train_id[jj]):\n",
    "            end_train_index = jj-1  \n",
    "            #make the plot\n",
    "            sample = range(start_train_index, end_train_index+1) #+1 due to range\n",
    "            train_stim_freq=np.unique(data['stim_freq'][ii][sample])\n",
    "            rec_id=np.unique(data['post_syn_rec_id'][ii][sample])\n",
    "\n",
    "            if len(train_stim_freq) != 1:\n",
    "                raise Exception('train should have one freq')\n",
    "            \n",
    "            train_times_rel_to_expt = data['spike_times_relative_to_expt'][ii][sample]\n",
    "            train_times_rel_to_train = data['spike_times_relative_to_expt'][ii][sample]-data['spike_times_relative_to_expt'][ii][start_train_index]\n",
    "            train_amps = data['amps'][ii][sample]\n",
    "            pulse_num_within_train = data['pulse_num_within_train'][ii][sample]\n",
    "            \n",
    "            plt.plot(train_times_rel_to_train, train_amps, '.-', ms=20)\n",
    "            start_train_index = jj\n",
    "    \n",
    "            #put in dictionary\n",
    "            conn_dict['train_num'].append(train_num)\n",
    "            conn_dict['post_rec_id'].append(rec_id)\n",
    "            conn_dict['amps'].append(train_amps)\n",
    "            conn_dict['times_rel_to_expt'].append(train_times_rel_to_expt)\n",
    "            conn_dict['times_rel_to_train'].append(train_times_rel_to_train)\n",
    "            conn_dict['pulse_num_within_train'].append(pulse_num_within_train)\n",
    "            conn_dict['stim_freq'].append(train_stim_freq)\n",
    "\n",
    "            train_num += 1\n",
    "#        put into new data frame and organize by stim freq\n",
    "    plt.show()"
   ]
  },
  {
   "cell_type": "code",
   "execution_count": null,
   "metadata": {
    "collapsed": false
   },
   "outputs": [],
   "source": [
    "conn_dict.keys()"
   ]
  },
  {
   "cell_type": "code",
   "execution_count": null,
   "metadata": {
    "collapsed": false
   },
   "outputs": [],
   "source": [
    "conn_dict['stim_freq']"
   ]
  },
  {
   "cell_type": "code",
   "execution_count": null,
   "metadata": {
    "collapsed": true
   },
   "outputs": [],
   "source": []
  }
 ],
 "metadata": {
  "kernelspec": {
   "display_name": "Python 2",
   "language": "python",
   "name": "python2"
  },
  "language_info": {
   "codemirror_mode": {
    "name": "ipython",
    "version": 2
   },
   "file_extension": ".py",
   "mimetype": "text/x-python",
   "name": "python",
   "nbconvert_exporter": "python",
   "pygments_lexer": "ipython2",
   "version": "2.7.12"
  }
 },
 "nbformat": 4,
 "nbformat_minor": 2
}
