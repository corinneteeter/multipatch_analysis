{
 "cells": [
  {
   "cell_type": "code",
   "execution_count": null,
   "metadata": {
    "collapsed": false
   },
   "outputs": [],
   "source": [
    "import pandas as pd \n",
    "import numpy as np\n",
    "import matplotlib\n",
    "import matplotlib.pyplot as plt\n",
    "%matplotlib inline\n",
    "#need to add in qc and mean\n",
    "# still need to add pre synaptic spike number qc. ie.e does more than one presynaptic spike happen?\n",
    "# what if a postsynaptic pulse happens and it does not pass qc "
   ]
  },
  {
   "cell_type": "code",
   "execution_count": null,
   "metadata": {
    "collapsed": false
   },
   "outputs": [],
   "source": [
    "def get_data_from_csv(filename):\n",
    "    \"\"\"Get data from a specified csv file.  Note the data arrays were written as strings with \n",
    "    funky things in them by pandas.to_csv.  Here they are pulled out and put in a dictionary as\n",
    "    numpy arrays.\n",
    "    Input\n",
    "    -----\n",
    "    filename: string\n",
    "        file name or path to file\n",
    "    Returns\n",
    "    -------\n",
    "    d: dictionary\n",
    "        contains data for connections\n",
    "        \"\"\"\n",
    "    \n",
    "    data = pd.read_csv(filename)\n",
    "    d={}\n",
    "    d['amps'] = []\n",
    "    d['spike_times_relative_to_expt'] = []\n",
    "    d['post_syn_rec_id'] = []\n",
    "    d['expt_start_time'] = []\n",
    "    d['post_id'] = data['post_id']\n",
    "    d['pre_id'] = data['pre_id']\n",
    "    d['post_cre'] = data['post_cre']\n",
    "    d['pre_cre'] = data['pre_cre']\n",
    "    d['uid'] = data['uid']\n",
    "    d['stim_freq'] = []\n",
    "    d['pulse_num_within_train'] = []\n",
    "#    d['qc_mask'] = []\n",
    "    \n",
    "    #convert weird string from cvs to arrays\n",
    "    for ii in range(len(data)):\n",
    "        d['amps'].append(np.fromstring(data['deconvolved_amps'][ii].replace('\\n', '').replace('[', '').replace(']', ''), dtype=float, sep=' '))\n",
    "        d['spike_times_relative_to_expt'].append(np.fromstring(data['spike_times_relative_to_experiment'][ii].replace('\\n', '').replace('[', '').replace(']', ''), dtype=float, sep=' '))\n",
    "        d['expt_start_time'].append(d['spike_times_relative_to_expt'][-1][0])\n",
    "        d['post_syn_rec_id'].append(np.fromstring(data['post_syn_rec_id'][ii].replace('\\n', '').replace('[', '').replace(']', ''), dtype=int, sep=' '))\n",
    "        d['pulse_num_within_train'].append(np.fromstring(data['pulse_num_within_train'][ii].replace('\\n', '').replace('[', '').replace(']', ''), dtype=int, sep=' '))\n",
    "        #print(data['stim_freq'][ii])\n",
    "        d['stim_freq'].append(np.fromstring(data['stim_freq'][ii].replace('\\n', '').replace('[', '').replace(']', ''), dtype=float, sep=' '))\n",
    "        if (len(d['amps'][-1]) != len(d['spike_times_relative_to_expt'][-1])) or \\\n",
    "            (len(d['amps'][-1]) != len(d['post_syn_rec_id'][-1])) or \\\n",
    "            (len(d['amps'][-1]) != len(d['stim_freq'][-1])) or \\\n",
    "            (len(d['amps'][-1]) != len(d['pulse_num_within_train'][-1])):\n",
    "            raise Exception('string to array conversion probably went wrong')\n",
    "    return d\n",
    "\n",
    "filename='pv_tlx_to_sst.csv'\n",
    "data=get_data_from_csv(filename)"
   ]
  },
  {
   "cell_type": "code",
   "execution_count": null,
   "metadata": {
    "collapsed": false
   },
   "outputs": [],
   "source": [
    "def cv_of_amps_in_df(df):\n",
    "    \"\"\"Coefficient of variation (std/mean) of each pulse in train.  Doing\n",
    "    this calculation by had here because df['amps'].std() is not working.\"\"\"\n",
    "    stuff=[]\n",
    "    for ii, row in df.iterrows(): #/fifty['times_rel_to_train'].mean() \n",
    "        stuff.append(row['amps'])\n",
    "    std=np.array(stuff).std(axis=0)\n",
    "    return std/df['amps'].mean()    "
   ]
  },
  {
   "cell_type": "code",
   "execution_count": null,
   "metadata": {
    "collapsed": false
   },
   "outputs": [],
   "source": [
    "for ii in range(0,1): #range(len(data['uid'])):\n",
    "    \n",
    "    plt.figure(figsize=(15,3))\n",
    "    \n",
    "    # plot whole experiment\n",
    "    sample=range(0,len(data['amps'][ii]))\n",
    "    plt.plot(data['spike_times_relative_to_expt'][ii][sample], data['amps'][ii][sample], '.-', ms=20)\n",
    "    # for ii, (p,t,a) in enumerate(zip(pulse_ids[sample], spike_times_relative_to_expt[sample], amplitudes[sample]*1e3)):\n",
    "    #     plt.annotate(str(ii), xy=(t,a), textcoords='data')\n",
    "    plt.ylabel('Deconvolution (arbitrary units)')\n",
    "    plt.xlabel('time (s)')\n",
    "    plt.title('Deconvolution Amplitude\\n%.3f, pre: %s %i, post: %s %i' %(data['uid'][ii], data['pre_cre'][ii], data['pre_id'][ii], data['post_cre'][ii], data['post_id'][ii]))\n",
    "    \n",
    "    # create new dictionary for individual connections where trains are differentiated.\n",
    "    conn_dict={}\n",
    "    conn_dict['train_num'] = []\n",
    "    conn_dict['post_rec_id'] = []\n",
    "    conn_dict['amps'] = []\n",
    "    conn_dict['times_rel_to_expt'] = []\n",
    "    conn_dict['times_rel_to_train'] = []\n",
    "    conn_dict['pulse_num_within_train'] = [] \n",
    "    conn_dict['stim_freq'] = []\n",
    "\n",
    "    start_train_index = 0\n",
    "    end_train_index = 0\n",
    "    train_num = 1\n",
    "    recording_id = data['post_syn_rec_id'][ii]\n",
    "    \n",
    "    # Walk though every pulse and group them acording to the recording id\n",
    "    for jj in range(1, len(recording_id)):\n",
    "        if (recording_id[jj-1] != recording_id[jj]):\n",
    "            end_train_index = jj-1  \n",
    "            #make the plot\n",
    "            sample = range(start_train_index, end_train_index+1) #+1 due to range\n",
    "            train_stim_freq=np.unique(data['stim_freq'][ii][sample])\n",
    "            rec_id=np.unique(data['post_syn_rec_id'][ii][sample])\n",
    "\n",
    "            # sanity checks\n",
    "            if (len(train_stim_freq) != 1) or (len(rec_id) != 1):\n",
    "                raise Exception('train should have one freq and one rec_id')\n",
    "            \n",
    "            # make data types more convenient\n",
    "            train_stim_freq = np.int64(train_stim_freq[0])\n",
    "            rec_id = rec_id[0]\n",
    "            \n",
    "            \n",
    "            train_times_rel_to_expt = data['spike_times_relative_to_expt'][ii][sample]\n",
    "            train_times_rel_to_train = data['spike_times_relative_to_expt'][ii][sample]-data['spike_times_relative_to_expt'][ii][start_train_index]\n",
    "            train_amps = data['amps'][ii][sample]\n",
    "            pulse_num_within_train = data['pulse_num_within_train'][ii][sample]\n",
    "#            plt.plot(train_times_rel_to_train, train_amps, '.-', ms=20)\n",
    "            start_train_index = jj\n",
    "    \n",
    "            #TODO: remember to eliminate trains with missing pre synaptic spikes\n",
    "            if np.all(pulse_num_within_train[0:8] == np.array([1,2,3,4,5,6,7,8])):\n",
    "                conn_dict['train_num'].append(train_num)\n",
    "                conn_dict['post_rec_id'].append(rec_id)\n",
    "                conn_dict['amps'].append(train_amps[0:8])\n",
    "                conn_dict['times_rel_to_expt'].append(train_times_rel_to_expt[0:8])\n",
    "                conn_dict['times_rel_to_train'].append(train_times_rel_to_train[0:8])\n",
    "                conn_dict['pulse_num_within_train'].append(pulse_num_within_train[0:8])\n",
    "                conn_dict['stim_freq'].append(train_stim_freq)\n",
    "            \n",
    "            train_num += 1\n",
    "    df=pd.DataFrame(conn_dict)\n",
    "\n",
    "\n",
    "    # plot individual fifty hertz trains\n",
    "    plt.figure(figsize=(15,5))\n",
    "    fifty=df[['times_rel_to_train', 'amps']][df['stim_freq']==50]\n",
    "    for kk, row in fifty.iterrows():\n",
    "        # plot each train\n",
    "        plt.plot(range(1,9), row['amps'], '.-', ms=20)\n",
    "    plt.plot(range(1,9), fifty['amps'].mean(), '.-k', lw=5, ms=30)\n",
    "    plt.xlabel('Pulse #')\n",
    "    plt.ylabel('Deconvolution (arbitrary units)')\n",
    "    \n",
    "    # amplitude mean versus coefficient of variation\n",
    "    plt.figure(figsize=(6,6))    \n",
    "    cv=cv_of_amps_in_df(fifty)\n",
    "    plt.plot(fifty['amps'].mean(), cv, ms=20)\n",
    "    for mm, (a, c) in enumerate(zip(fifty['amps'].mean(), cv)):\n",
    "        print(a,c)\n",
    "        plt.annotate(str(mm+1), (a,c))\n",
    "    plt.xlabel('Mean deconvolved amplitude')\n",
    "    plt.ylabel('CV deconvolved amplitude')\n",
    "    plt.show()"
   ]
  },
  {
   "cell_type": "code",
   "execution_count": null,
   "metadata": {
    "collapsed": false
   },
   "outputs": [],
   "source": [
    "# OLD CODE: deprecate when done\n",
    "# plotting if there are more than one freq \n",
    "# trains that are the same freq (note still in larger connection loop)\n",
    "    stims = np.unique(conn_dict['stim_freq'])\n",
    "    for stim in stims:\n",
    "        plt.figure(figsize=(15,5))\n",
    "        plt.title(stim)\n",
    "        for jj in range(len(conn_dict['train_num'])):\n",
    "            if conn_dict['stim_freq'][jj] == stim:\n",
    "                plt.plot(conn_dict['times_rel_to_train'][jj][0:8], conn_dict['amps'][jj][0:8], '.-', ms=20)"
   ]
  },
  {
   "cell_type": "code",
   "execution_count": null,
   "metadata": {
    "collapsed": false
   },
   "outputs": [],
   "source": [
    "conn_dict['stim_freq']"
   ]
  },
  {
   "cell_type": "code",
   "execution_count": null,
   "metadata": {
    "collapsed": true
   },
   "outputs": [],
   "source": []
  }
 ],
 "metadata": {
  "kernelspec": {
   "display_name": "Python 2",
   "language": "python",
   "name": "python2"
  },
  "language_info": {
   "codemirror_mode": {
    "name": "ipython",
    "version": 2
   },
   "file_extension": ".py",
   "mimetype": "text/x-python",
   "name": "python",
   "nbconvert_exporter": "python",
   "pygments_lexer": "ipython2",
   "version": "2.7.12"
  }
 },
 "nbformat": 4,
 "nbformat_minor": 2
}
