{
 "cells": [
  {
   "cell_type": "code",
   "execution_count": null,
   "metadata": {
    "collapsed": false
   },
   "outputs": [],
   "source": [
    "import pandas as pd \n",
    "import numpy as np\n",
    "import matplotlib\n",
    "import matplotlib.pyplot as plt\n",
    "%matplotlib inline\n",
    "need to add in qc and mean"
   ]
  },
  {
   "cell_type": "code",
   "execution_count": null,
   "metadata": {
    "collapsed": false
   },
   "outputs": [],
   "source": [
    "def get_data_from_csv(filename):\n",
    "    data = pd.read_csv(filename)\n",
    "    d={}\n",
    "    d['amps'] = []\n",
    "    d['spike_times_relative_to_expt'] = []\n",
    "    d['train_id'] = []\n",
    "    d['expt_start_time'] = []\n",
    "    d['post_id'] = data['post_id']\n",
    "    d['pre_id'] = data['pre_id']\n",
    "    d['uid'] = data['uid']\n",
    "    \n",
    "    #convert weird string from cvs to arrays\n",
    "    for ii in range(len(data)):\n",
    "        d['amps'].append(np.fromstring(data['deconvolved_amps'][ii].replace('\\n', '').replace('[', '').replace(']', ''), dtype=float, sep=' '))\n",
    "        d['spike_times_relative_to_expt'].append(np.fromstring(data['spike_times_relative_to_experiment'][ii].replace('\\n', '').replace('[', '').replace(']', ''), dtype=float, sep=' '))\n",
    "        d['expt_start_time'].append(d['spike_times_relative_to_expt'][-1][0])\n",
    "        d['train_id'].append(np.fromstring(data['post_syn_rec_id'][ii].replace('\\n', '').replace('[', '').replace(']', ''), dtype=int, sep=' '))\n",
    "        if (len(d['amps'][-1]) != len(d['spike_times_relative_to_expt'][-1])) or \\\n",
    "            (len(d['amps'][-1]) != len(d['train_id'][-1])):\n",
    "            raise Exception('string to array conversion probably went wrong')\n",
    "    return d\n",
    "\n",
    "data=get_data_from_csv('pv_tlx_to_sst.csv')"
   ]
  },
  {
   "cell_type": "code",
   "execution_count": null,
   "metadata": {
    "collapsed": false
   },
   "outputs": [],
   "source": [
    "for ii in range(len(data)):\n",
    "    plt.figure(figsize=(15,10))\n",
    "    \n",
    "    # plot whole experiment\n",
    "    sample=range(0,len(data['amps']))\n",
    "    plt.plot(data['spike_times_relative_to_expt'][ii][sample], data['amps'][ii][sample], '.-', ms=20)\n",
    "    # for ii, (p,t,a) in enumerate(zip(pulse_ids[sample], spike_times_relative_to_expt[sample], amplitudes[sample]*1e3)):\n",
    "    #     plt.annotate(str(ii), xy=(t,a), textcoords='data')\n",
    "    plt.ylabel('Deconvolution Arbitrary Units')\n",
    "    plt.xlabel('time (unknown units)')\n",
    "    plt.title('Deconvolution Amplitude\\n%.3f, pre %i, post %i' %(data['uid'][ii], data['pre_id'][ii], data['post_id'][ii]))\n",
    "    \n",
    "    # individual trains\n",
    "    plt.figure(figsize=(15,10))\n",
    "    start_train_index = 0\n",
    "    end_train_index = 0\n",
    "    train_id = data['train_id'][ii]\n",
    "    for jj in range(1, len(train_id)):\n",
    "        if (train_id[jj-1] != train_id[jj]):\n",
    "            end_train_index = jj-1  \n",
    "            #make the plot\n",
    "            sample = range(start_train_index, end_train_index+1) #+1 due to range\n",
    "            plt.plot(data['spike_times_relative_to_expt'][ii][sample]-data['spike_times_relative_to_expt'][ii][start_train_index], data['amps'][ii][sample], '.-', ms=20)\n",
    "            start_train_index = jj\n",
    "    \n",
    "    plt.show()"
   ]
  },
  {
   "cell_type": "code",
   "execution_count": null,
   "metadata": {
    "collapsed": true
   },
   "outputs": [],
   "source": []
  }
 ],
 "metadata": {
  "kernelspec": {
   "display_name": "Python 2",
   "language": "python",
   "name": "python2"
  },
  "language_info": {
   "codemirror_mode": {
    "name": "ipython",
    "version": 2
   },
   "file_extension": ".py",
   "mimetype": "text/x-python",
   "name": "python",
   "nbconvert_exporter": "python",
   "pygments_lexer": "ipython2",
   "version": "2.7.12"
  }
 },
 "nbformat": 4,
 "nbformat_minor": 2
}
