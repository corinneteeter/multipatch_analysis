{
 "cells": [
  {
   "cell_type": "markdown",
   "metadata": {},
   "source": [
    "Estimate how many first pulses will be needed to estimate the quantal size for different \n",
    "probabilities of release and different numbers of contact cites.  Here, I assume that the \n",
    "probablility of release at each site is independent and homogenous."
   ]
  },
  {
   "cell_type": "code",
   "execution_count": null,
   "metadata": {},
   "outputs": [],
   "source": [
    "import numpy as np\n",
    "import seaborn as sns\n",
    "import matplotlib\n",
    "import matplotlib.pyplot as plt\n",
    "%matplotlib inline\n",
    "font={'size':22}\n",
    "matplotlib.rc('font', **font)"
   ]
  },
  {
   "cell_type": "code",
   "execution_count": null,
   "metadata": {},
   "outputs": [],
   "source": [
    "def first_pulses_needed(n):\n",
    "    \"\"\"Calculate the probability and number of spikes needed to view varying \n",
    "    numbers of vessicles given release cites are independent, only one vessicle can\n",
    "    be released from each cite and there is a homogenous propability of release\n",
    "    over all the cites.  i.e. each independent release cite has the same probability \n",
    "    of release as the other release cites.  Homogenous probability of release is varied\n",
    "    from 0.1 to 0.9 in increments of 0.1.  The probability that a number of vesicles \n",
    "    (quanta), h = 0,1...n, is returned for the vairied probabilites.  In addition the \n",
    "    number of it would require to observe the number of quantal release, h, is returned,\n",
    "    \n",
    "    Input\n",
    "    -----\n",
    "    n: int\n",
    "        number of independent release cites\n",
    "    Returns\n",
    "    -------\n",
    "    out[0]: numpy array\n",
    "        contains the minimum number of spikes needed to observe all of the\n",
    "        individual number of quanta with a probablility of release from 0.1 \n",
    "        to 0.9.\n",
    "    out[1]: numpy matrix\n",
    "        Describes probability that particular number of vessicles will be released.\n",
    "        Rows correspond to number of vessicles released, h. Columns correspond to \n",
    "        the homogenous release probability of a vessicle from each individual cite \n",
    "        from 0.1 to 0.9 in increments of 0.1. There will be n+1 rows and 9 columns. \n",
    "        For example, if there are n=0 release cites, 1 row will be returned with \n",
    "        9 probability values equal to 1. i.e there is a 100% probability that 0 release \n",
    "        cites will yield 0 vessicles regardless of the release probability of the cites.  \n",
    "        If there are n=1 release cites, the first row will describe the probability of \n",
    "        observing h=0 vessicles released over the varying release probabilities. The \n",
    "        second row will report the probability of observing h=1 vessicles released \n",
    "        over the varying release probabilities.  \n",
    "    out[1]: numpy matrix\n",
    "        Number of psps that would have to be observed to see the number of observed\n",
    "        vessicles as structured in out[1].  Note, this is just the the recipical of \n",
    "        out[1] rounded up to the nearest integer. \n",
    "        \n",
    "    \"\"\"\n",
    "    prob_matrix=[]\n",
    "    for h in range(n+1):  #h is number of quantal releases\n",
    "        prob_of_getting_h=[]\n",
    "        for prob_of_release in np.arange(.1,1,.1): #prob_of_release is the probablility of a vesicle releasing at any given cite\n",
    "            pre_term=np.math.factorial(n)/(np.math.factorial(n-h)*np.math.factorial(h))\n",
    "            post_term=prob_of_release**h * (1-prob_of_release)**(n-h)\n",
    "            prob_of_getting_h.append(pre_term*post_term)\n",
    "        prob_matrix.append(prob_of_getting_h)\n",
    "    prob_matrix=np.array(prob_matrix)\n",
    "    num_needed_observations=np.round(1/prob_matrix)\n",
    "    return np.max(num_needed_observations), prob_matrix, num_needed_observations\n",
    "\n",
    "def plot_matrix(matrix):\n",
    "    plt.figure()\n",
    "    for h, row in enumerate(matrix):\n",
    "        plt.plot(np.arange(.1,1,.1), row, label=('h=%i' % h)) \n",
    "    plt.show()\n",
    "    \n",
    "spikes_needed=[]\n",
    "for ii in range(0,11): #cycling though number of release cites\n",
    "    print(ii)\n",
    "    max_num, prob_matrix, need_matrix=first_pulses_needed(ii)\n",
    "    print (need_matrix)\n",
    "    spikes_needed.append(max_num)\n",
    "    plot_matrix(need_matrix)\n",
    "\n",
    "    \n",
    "print spikes_needed"
   ]
  },
  {
   "cell_type": "markdown",
   "metadata": {
    "collapsed": true
   },
   "source": [
    "Note that as long as the number of release cites is less than 10, if the release probability is less than we should be able to view a single quanta with 17 spikes."
   ]
  }
 ],
 "metadata": {
  "kernelspec": {
   "display_name": "Python 2",
   "language": "python",
   "name": "python2"
  },
  "language_info": {
   "codemirror_mode": {
    "name": "ipython",
    "version": 2
   },
   "file_extension": ".py",
   "mimetype": "text/x-python",
   "name": "python",
   "nbconvert_exporter": "python",
   "pygments_lexer": "ipython2",
   "version": "2.7.15"
  }
 },
 "nbformat": 4,
 "nbformat_minor": 2
}
