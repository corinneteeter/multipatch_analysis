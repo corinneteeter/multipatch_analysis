{
 "cells": [
  {
   "cell_type": "markdown",
   "metadata": {},
   "source": [
    "#  Look to see if there is a delay in achieving driving force equilibrum\n",
    "Look at the amplitude of voltage clamp first pulses at the beginning of the experiemnt (before internal and external solutions have equalized) to see if they are increasing or decreasing.  \n",
    "\n",
    "The following applies:\n",
    "* pass qc\n",
    "* sst to sst connections\n",
    "* holding potential between -50 and -60 mV "
   ]
  },
  {
   "cell_type": "code",
   "execution_count": null,
   "metadata": {},
   "outputs": [],
   "source": [
    "# imports\n",
    "import numpy as np\n",
    "import matplotlib\n",
    "font={'size' : 16}\n",
    "matplotlib.rc('font', **font)\n",
    "import matplotlib.pyplot as plt\n",
    "from multipatch_analysis.database import database as db\n",
    "import multipatch_analysis.connection_strength as cs \n",
    "from multipatch_analysis.database.database import TableGroup"
   ]
  },
  {
   "cell_type": "code",
   "execution_count": null,
   "metadata": {},
   "outputs": [],
   "source": [
    "#Query sst to sst connections\n",
    "s = db.Session()\n",
    "pre_cell = db.aliased(db.Cell)\n",
    "post_cell = db.aliased(db.Cell)\n",
    "pre_cre = 'sst'\n",
    "post_cre = 'sst'\n",
    "\n",
    "q = s.query(db.Pair, db.Experiment.acq_timestamp, pre_cell.ext_id, post_cell.ext_id, pre_cell.cre_type, post_cell.cre_type)\\\n",
    "    .join(pre_cell, db.Pair.pre_cell_id==pre_cell.id)\\\n",
    "    .join(post_cell, db.Pair.post_cell_id==post_cell.id)\\\n",
    "    .join(db.Experiment)\n",
    "\n",
    "q_filter = [pre_cell.cre_type==pre_cre,\\\n",
    "           post_cell.cre_type==post_cre,\\\n",
    "           db.Pair.synapse==True]\n",
    "\n",
    "for f in q_filter:\n",
    "    q = q.filter(f)\n",
    "    \n",
    "sst = q.all()\n",
    "print len(sst)"
   ]
  },
  {
   "cell_type": "code",
   "execution_count": null,
   "metadata": {},
   "outputs": [],
   "source": [
    "def event_qc(events, criterion):\n",
    "    mask = events[criterion] == True\n",
    "    mask &= np.abs(events['baseline_current']) < 500e-12\n",
    "    mask &= events['baseline_potential'] < -50e-3\n",
    "    mask &= events['baseline_potential'] > -60e-3\n",
    "    return mask \n",
    "\n",
    "def get_first_pulse_deconvolved_amp(uid, pre_cell_id, post_cell_id, get_data=False):\n",
    "    session = db.Session()\n",
    "    #note requerying the pair because the Session was going lazy\n",
    "    expt = db.experiment_from_timestamp(uid, session=session)\n",
    "    pair = expt.pairs[(pre_cell_id, post_cell_id)]\n",
    "    \n",
    "    # 1. Get a list of all presynaptic spike times and the amplitudes of postsynaptic responses    \n",
    "    clamp_mode='vc'\n",
    "    raw_events = cs.get_amps(session, pair, clamp_mode=clamp_mode, get_data=get_data)\n",
    "    if ((pair.connection_strength.synapse_type == 'in') & (clamp_mode == 'ic')) or ((pair.connection_strength.synapse_type == 'ex') & (clamp_mode == 'vc')):\n",
    "        amplitude_field = 'neg_dec_amp'\n",
    "        criterion='in_qc_pass'\n",
    "    elif ((pair.connection_strength.synapse_type == 'ex') & (clamp_mode == 'ic')) or ((pair.connection_strength.synapse_type == 'in') & (clamp_mode == 'vc')):  \n",
    "        amplitude_field = 'pos_dec_amp'\n",
    "        criterion='ex_qc_pass'\n",
    "    else:\n",
    "        raise Exception('huh?')\n",
    "    pass_qc_mask = event_qc(raw_events, criterion)\n",
    "    events = raw_events[pass_qc_mask]\n",
    "    if pair.connection_strength is None:\n",
    "        print (\"\\t\\tSKIPPING: pair_id %s, uid %s, is not yielding pair.connection_strength\" % (pair.id, uid))\n",
    "        if get_data==True:\n",
    "            return None, None, None, None\n",
    "        else:\n",
    "            return None, None, None\n",
    "    print(\"TRYING: %0.3f, cell ids:%s %s\" % (uid, pre_cell_id, post_cell_id))\n",
    "    if len(events)==0:\n",
    "        print (\"\\tno events: %0.3f, cell ids:%s %s\" % (uid, pre_cell_id, post_cell_id))\n",
    "        session.close()\n",
    "        if get_data==True:\n",
    "            return None, None, None, None\n",
    "        else:\n",
    "            return None, None, None\n",
    "    \n",
    "    rec_times = 1e-9 * (events['rec_start_time'].astype(float) - float(events['rec_start_time'][0]))\n",
    "    spike_times = events['max_dvdt_time'] + rec_times\n",
    "\n",
    "    raw_bg_events = cs.get_baseline_amps(session, pair, clamp_mode='ic')\n",
    "    bg_qc_mask = event_qc(raw_bg_events, criterion)\n",
    "    bg_events = raw_bg_events[bg_qc_mask]\n",
    "    mean_bg_amp = bg_events[amplitude_field].mean()\n",
    "    amplitudes = events[amplitude_field] - mean_bg_amp\n",
    "    pulse_ids = events['id']\n",
    "\n",
    "    first_pulse_mask = events['pulse_number'] == 1\n",
    "    first_pulse_amps = amplitudes[first_pulse_mask]\n",
    "    first_pulse_times = rec_times[first_pulse_mask]\n",
    "    first_pulse_ids = pulse_ids[first_pulse_mask]\n",
    "    if get_data==True:\n",
    "        data = events['data'][first_pulse_mask]\n",
    "        session.close()\n",
    "        \n",
    "        return first_pulse_times, first_pulse_amps, first_pulse_ids, data\n",
    "    else:\n",
    "        return first_pulse_times, first_pulse_amps, first_pulse_ids\n",
    "\n"
   ]
  },
  {
   "cell_type": "code",
   "execution_count": null,
   "metadata": {
    "scrolled": false
   },
   "outputs": [],
   "source": [
    "for p in sst:\n",
    "    first_pulse_times, first_pulse_amps, first_pulse_ids, data = get_first_pulse_deconvolved_amp(p[1], p[2], p[3], get_data=True)\n",
    "    if first_pulse_times is None:\n",
    "        continue\n",
    "    plt.figure(figsize=(12,5))\n",
    "    small_t_mask=first_pulse_times<200\n",
    "    fpt=first_pulse_times[small_t_mask]\n",
    "    fpa=first_pulse_amps[small_t_mask]\n",
    "    plt.plot(fpt, fpa, '.', ms=20)\n",
    "#     for ii, (p_id,t,a) in enumerate(zip(first_pulse_ids, first_pulse_times, first_pulse_amps)):\n",
    "#         plt.annotate(str(ii), xy=(t,a), textcoords='data')\n",
    "    plt.yticks([])\n",
    "    plt.ylabel('deconvolved amplitude')\n",
    "    plt.xlabel('time (s)')\n",
    "    plt.title('First Pulse Deconvolution Amplitude\\n%.3f, pre %s, post %s' %(p[1], p[2], p[3]))\n",
    "    \n",
    "    plt.tight_layout()\n",
    "    plt.show()\n"
   ]
  },
  {
   "cell_type": "code",
   "execution_count": null,
   "metadata": {},
   "outputs": [],
   "source": []
  },
  {
   "cell_type": "code",
   "execution_count": null,
   "metadata": {},
   "outputs": [],
   "source": []
  }
 ],
 "metadata": {
  "kernelspec": {
   "display_name": "Python 2",
   "language": "python",
   "name": "python2"
  },
  "language_info": {
   "codemirror_mode": {
    "name": "ipython",
    "version": 2
   },
   "file_extension": ".py",
   "mimetype": "text/x-python",
   "name": "python",
   "nbconvert_exporter": "python",
   "pygments_lexer": "ipython2",
   "version": "2.7.15"
  }
 },
 "nbformat": 4,
 "nbformat_minor": 2
}
