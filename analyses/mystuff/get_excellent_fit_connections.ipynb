{
 "cells": [
  {
   "cell_type": "code",
   "execution_count": 1,
   "metadata": {},
   "outputs": [],
   "source": [
    "\"\"\"How well data was fit was characterized by eye.  \n",
    "Data that was well fit is probably pretty good and may be used as a \n",
    "good data set.  Here I show how to select certain data from the .csv\n",
    "files where I manually rated fits so that I can query that data \n",
    "elsewhere.\"\"\"\n",
    "import pandas as pd\n",
    "import numpy as np"
   ]
  },
  {
   "cell_type": "code",
   "execution_count": 2,
   "metadata": {},
   "outputs": [
    {
     "data": {
      "text/plain": [
       "Index([u'NRMSE', u'acsf', u'amp', u'boolean_connection', u'decay_tau',\n",
       "       u'distance', u'latency', u'measured_amp', u'measured_baseline',\n",
       "       u'n_sweeps', u'post_cell_id', u'post_cre', u'post_layer',\n",
       "       u'pre_cell_id', u'pre_cre', u'pre_layer', u'rise_time',\n",
       "       u'syn_excitation', u'uid', u'image_path', u'good_fit', u'data_clarity'],\n",
       "      dtype='object')"
      ]
     },
     "execution_count": 2,
     "metadata": {},
     "output_type": "execute_result"
    }
   ],
   "source": [
    "# load csv files.\n",
    "i_df=pd.read_csv('ML_connected_csv/ML_connected_iclamp_2018_12_18.csv')\n",
    "v_df=pd.read_csv('ML_connected_csv/ML_connected_vclamp_2018_12_12.csv')\n",
    "i_df['uid']=i_df.apply(lambda row: \"%.3f\" % float(row.uid), axis=1)\n",
    "v_df['uid']=v_df.apply(lambda row: \"%.3f\" % float(row.uid), axis=1)\n",
    "# get rid of wacky Unnamed columns if they exist\n",
    "v_df=v_df[v_df.columns.drop(list(v_df.filter(regex='Unnamed')))]\n",
    "i_df=i_df[i_df.columns.drop(list(i_df.filter(regex='Unnamed')))]"
   ]
  },
  {
   "cell_type": "code",
   "execution_count": 3,
   "metadata": {},
   "outputs": [
    {
     "name": "stdout",
     "output_type": "stream",
     "text": [
      "957\n",
      "966\n",
      "925\n"
     ]
    }
   ],
   "source": [
    "#Merge voltage and current clamp data frames\n",
    "merged_df = pd.merge(i_df, v_df, on=['uid', 'pre_cell_id', 'post_cell_id', \n",
    "                                     'distance', 'acsf','post_cre', 'pre_cre',\n",
    "                                    'boolean_connection', 'pre_layer', \n",
    "                                     'post_layer'], how='inner', suffixes={'_i', '_v'})\n",
    "merged_df['uid']=merged_df['uid'].astype(str)\n",
    "\n",
    "print(len(i_df))\n",
    "print(len(v_df))\n",
    "print(len(merged_df))"
   ]
  },
  {
   "cell_type": "code",
   "execution_count": 4,
   "metadata": {},
   "outputs": [
    {
     "name": "stdout",
     "output_type": "stream",
     "text": [
      "159\n"
     ]
    }
   ],
   "source": [
    "# merge the data that is 'excellent'\n",
    "excellent_df=merged_df[(merged_df['good_fit_i']=='excellent') & (merged_df['good_fit_v']=='excellent') & \n",
    "                      (merged_df['data_clarity_v']=='well') & (merged_df['data_clarity_i']=='well')]\n",
    "# merge the data that is pretty good\n",
    "good_df=merged_df[((merged_df['good_fit_i']=='excellent') | (merged_df['good_fit_i']=='good')) & \n",
    "                       ((merged_df['good_fit_v']=='excellent') | (merged_df['good_fit_v']=='good')) & \n",
    "                       ((merged_df['data_clarity_v']=='well') | (merged_df['data_clarity_v']=='ok')) & \n",
    "                       ((merged_df['data_clarity_i']=='well') | (merged_df['data_clarity_i']=='ok'))]\n",
    "print(len(excellent_df))"
   ]
  },
  {
   "cell_type": "code",
   "execution_count": 6,
   "metadata": {},
   "outputs": [
    {
     "name": "stdout",
     "output_type": "stream",
     "text": [
      "excellent fits\n",
      "pre_cre    post_cre\n",
      "nr5a1      nr5a1        1\n",
      "pvalb      pvalb       55\n",
      "           sim1         2\n",
      "           sst          1\n",
      "           tlx3         2\n",
      "           unknown      1\n",
      "           vip          2\n",
      "pvalb,sst  pvalb        2\n",
      "rbp4       rbp4         5\n",
      "rorb       rorb         6\n",
      "           unknown      4\n",
      "sim1       sim1        13\n",
      "sst        pvalb        1\n",
      "           sst          2\n",
      "           vip          1\n",
      "tlx3       pvalb        1\n",
      "           sst          1\n",
      "           tlx3         6\n",
      "unknown    ntsr1        1\n",
      "           pvalb        3\n",
      "           rorb         3\n",
      "           sst          3\n",
      "           unknown     41\n",
      "           vip          1\n",
      "vip        vip          1\n",
      "dtype: int64\n",
      "good fits\n",
      "pre_cre    post_cre\n",
      "nr5a1      nr5a1        2\n",
      "ntsr1      pvalb        1\n",
      "           sst          1\n",
      "pvalb      ntsr1        1\n",
      "           pvalb       75\n",
      "           sim1         4\n",
      "           sst          6\n",
      "           tlx3        11\n",
      "           unknown      4\n",
      "           vip          3\n",
      "pvalb,sst  pvalb        2\n",
      "rbp4       rbp4         5\n",
      "rorb       rorb         7\n",
      "           unknown      6\n",
      "sim1       pvalb        1\n",
      "           sim1        18\n",
      "sst        pvalb        4\n",
      "           sst          2\n",
      "           tlx3         2\n",
      "           unknown      1\n",
      "           vip          2\n",
      "tlx3       pvalb        4\n",
      "           sst          2\n",
      "           tlx3         8\n",
      "unknown    ntsr1        1\n",
      "           pvalb        5\n",
      "           rorb         5\n",
      "           sst          3\n",
      "           unknown     55\n",
      "           vip          2\n",
      "vip        sst          1\n",
      "           vip          2\n",
      "dtype: int64\n"
     ]
    }
   ],
   "source": [
    "print('excellent fits')\n",
    "print(excellent_df.groupby(['pre_cre', 'post_cre']).size())\n",
    "print('good fits')\n",
    "print(good_df.groupby(['pre_cre', 'post_cre']).size())\n"
   ]
  },
  {
   "cell_type": "code",
   "execution_count": 15,
   "metadata": {},
   "outputs": [
    {
     "data": {
      "text/plain": [
       "Index([u'NRMSE_v', u'acsf', u'amp_v', u'boolean_connection', u'decay_tau_v',\n",
       "       u'distance', u'latency_v', u'measured_amp_v', u'measured_baseline_v',\n",
       "       u'n_sweeps_v', u'post_cell_id', u'post_cre', u'post_layer',\n",
       "       u'pre_cell_id', u'pre_cre', u'pre_layer', u'rise_time_v',\n",
       "       u'syn_excitation_v', u'uid', u'image_path_v', u'good_fit_v',\n",
       "       u'data_clarity_v', u'NRMSE_i', u'amp_i', u'decay_tau_i', u'latency_i',\n",
       "       u'measured_amp_i', u'measured_baseline_i', u'n_sweeps_i',\n",
       "       u'rise_time_i', u'syn_excitation_i', u'image_path_i', u'good_fit_i',\n",
       "       u'data_clarity_i'],\n",
       "      dtype='object')"
      ]
     },
     "execution_count": 15,
     "metadata": {},
     "output_type": "execute_result"
    }
   ],
   "source": [
    "pv_to_pv=excellent_df[(excellent_df['pre_cre']=='pvalb') & (excellent_df['post_cre']=='pvalb')]\n",
    "pv_to_pv.shape\n",
    "pv_to_pv.keys()"
   ]
  },
  {
   "cell_type": "code",
   "execution_count": 43,
   "metadata": {},
   "outputs": [
    {
     "name": "stdout",
     "output_type": "stream",
     "text": [
      "( 1533244490.76 6 4 ),\n",
      "( 1530559621.97 7 6 ),\n",
      "( 1527020350.52 6 7 ),\n",
      "( 1525903868.12 6 5 ),\n",
      "( 1525903868.12 7 6 ),\n",
      "( 1525812130.13 7 6 ),\n",
      "( 1523398687.48 2 1 ),\n",
      "( 1523398687.48 2 3 ),\n",
      "( 1523398687.48 3 2 ),\n",
      "( 1521667891.15 3 4 ),\n",
      "( 1519425770.22 6 7 ),\n",
      "( 1519425770.22 7 2 ),\n",
      "( 1518564082.24 4 6 ),\n",
      "( 1517356361.73 7 6 ),\n",
      "( 1517356063.39 3 4 ),\n",
      "( 1517348193.99 1 6 ),\n",
      "( 1517348193.99 6 8 ),\n",
      "( 1517266234.42 5 4 ),\n",
      "( 1517266234.42 6 5 ),\n",
      "( 1517269966.86 2 4 ),\n",
      "( 1517269966.86 2 8 ),\n",
      "( 1517269966.86 7 8 ),\n",
      "( 1516820219.86 3 4 ),\n",
      "( 1516744107.35 3 6 ),\n",
      "( 1513976168.03 2 1 ),\n",
      "( 1511913615.87 5 4 ),\n",
      "( 1510268339.83 4 5 ),\n",
      "( 1510268339.83 4 7 ),\n",
      "( 1510268339.83 5 4 ),\n",
      "( 1510268339.83 7 4 ),\n",
      "( 1508189280.04 4 8 ),\n",
      "( 1507235159.78 5 6 ),\n",
      "( 1505421643.24 6 7 ),\n",
      "( 1505421643.24 7 6 ),\n",
      "( 1505515553.15 3 8 ),\n",
      "( 1505515553.15 6 5 ),\n",
      "( 1505515553.15 6 7 ),\n",
      "( 1505515553.15 7 3 ),\n",
      "( 1500668871.65 1 7 ),\n",
      "( 1496703451.2 4 1 ),\n",
      "( 1495574744.01 4 2 ),\n",
      "( 1493159586.9 3 5 ),\n",
      "( 1493159586.9 7 8 ),\n",
      "( 1492018873.07 8 4 ),\n",
      "( 1491587831.02 8 3 ),\n",
      "( 1491252584.11 1 5 ),\n",
      "( 1491347329.81 3 6 ),\n",
      "( 1491347329.81 6 2 ),\n",
      "( 1490043541.22 2 7 ),\n",
      "( 1490043541.22 6 2 ),\n",
      "( 1490043541.22 7 2 ),\n",
      "( 1490043541.22 7 6 ),\n",
      "( 1484952266.12 8 4 ),\n",
      "( 1539801888.71 1 8 ),\n",
      "( 1539801888.71 7 1 ),\n"
     ]
    }
   ],
   "source": [
    "for (ind, pv) in pv_to_pv.iterrows():  #this provides a tuple where the first entry is the index and the second is a pandas Series\n",
    "    # printing in a format used elsewhere\n",
    "    print '(',float(pv.uid), pv.pre_cell_id, pv.post_cell_id, '),'#    "
   ]
  },
  {
   "cell_type": "code",
   "execution_count": 44,
   "metadata": {},
   "outputs": [
    {
     "name": "stdout",
     "output_type": "stream",
     "text": [
      "( 1536790789.3 5 7 ),\n",
      "( 1530911027.48 6 3 ),\n",
      "( 1509569685.58 3 6 ),\n",
      "( 1506463922.47 2 3 ),\n",
      "( 1506537287.63 5 7 ),\n",
      "( 1502139148.64 8 2 ),\n",
      "( 1499725603.27 1 2 ),\n",
      "( 1499725603.27 3 5 ),\n",
      "( 1499725138.07 7 4 ),\n",
      "( 1497473076.69 7 4 ),\n",
      "( 1497469151.7 1 8 ),\n",
      "( 1497469151.7 8 5 ),\n",
      "( 1487107236.82 7 5 ),\n"
     ]
    }
   ],
   "source": [
    "sim1_to_sim1=excellent_df[(excellent_df['pre_cre']=='sim1') & (excellent_df['post_cre']=='sim1')]\n",
    "for (ind, sim1) in sim1_to_sim1.iterrows():  #this provides a tuple where the first entry is the index and the second is a pandas Series\n",
    "    # printing in a format used elsewhere\n",
    "    print '(',float(sim1.uid), sim1.pre_cell_id, sim1.post_cell_id, '),'# "
   ]
  },
  {
   "cell_type": "code",
   "execution_count": 14,
   "metadata": {},
   "outputs": [
    {
     "data": {
      "text/plain": [
       "(13, 34)"
      ]
     },
     "execution_count": 14,
     "metadata": {},
     "output_type": "execute_result"
    }
   ],
   "source": [
    "sim1_to_sim1.shape"
   ]
  },
  {
   "cell_type": "code",
   "execution_count": null,
   "metadata": {},
   "outputs": [],
   "source": []
  }
 ],
 "metadata": {
  "kernelspec": {
   "display_name": "Python 2",
   "language": "python",
   "name": "python2"
  },
  "language_info": {
   "codemirror_mode": {
    "name": "ipython",
    "version": 2
   },
   "file_extension": ".py",
   "mimetype": "text/x-python",
   "name": "python",
   "nbconvert_exporter": "python",
   "pygments_lexer": "ipython2",
   "version": "2.7.15"
  }
 },
 "nbformat": 4,
 "nbformat_minor": 2
}
