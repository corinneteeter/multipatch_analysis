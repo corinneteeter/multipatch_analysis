{
 "cells": [
  {
   "cell_type": "markdown",
   "metadata": {},
   "source": [
    "## Description of experiments"
   ]
  },
  {
   "cell_type": "markdown",
   "metadata": {},
   "source": [
    "..."
   ]
  },
  {
   "cell_type": "markdown",
   "metadata": {},
   "source": [
    "## What kinds of data are available"
   ]
  },
  {
   "cell_type": "markdown",
   "metadata": {},
   "source": [
    "..."
   ]
  },
  {
   "cell_type": "markdown",
   "metadata": {},
   "source": [
    "## How to access the data\n",
    "\n",
    "\n",
    "Example ideas:\n",
    "- Look up a broad connection type\n",
    "   - print connectivity\n",
    "   - plot connectivity vs distance\n",
    "   - plot distribution of a few properties: amplitude, latency, decay tau   \n",
    "- Pick pair of specific types (or perhaps a whole matrix row), look at type-dependent strength\n",
    "   - Tlx3 -> pv/sst/vip\n",
    "   - L2/3 Pyr/Pv dynamics?\n"
   ]
  },
  {
   "cell_type": "code",
   "execution_count": 37,
   "metadata": {},
   "outputs": [],
   "source": [
    "import numpy as np\n",
    "from multipatch_analysis import database as db\n",
    "from multipatch_analysis.cell_class import CellClass, classify_pairs"
   ]
  },
  {
   "cell_type": "markdown",
   "metadata": {},
   "source": [
    "Define two cell classes:\n",
    "- presynaptic cells are L2/3 pyramidal cells\n",
    "- postsynaptic cells are Pvalb positive (any layer)"
   ]
  },
  {
   "cell_type": "code",
   "execution_count": 4,
   "metadata": {},
   "outputs": [],
   "source": [
    "pre_class = CellClass(target_layer='2/3', cre_type='unknown')\n",
    "post_class = CellClass(cre_type='pvalb')\n",
    "classes = {\n",
    "    'L2/3 Sst': pre_class,\n",
    "    'Pvalb': post_class,\n",
    "}"
   ]
  },
  {
   "cell_type": "markdown",
   "metadata": {},
   "source": [
    "Get a list of all cell pairs in the database that match these cell type criteria. We also filter here for a specific project name \"mouse V1 coarse matrix\" in order to exclude Other experiment types."
   ]
  },
  {
   "cell_type": "code",
   "execution_count": 10,
   "metadata": {},
   "outputs": [
    {
     "data": {
      "text/plain": [
       "374"
      ]
     },
     "execution_count": 10,
     "metadata": {},
     "output_type": "execute_result"
    }
   ],
   "source": [
    "pair_query = db.pair_query(project_name=\"mouse V1 coarse matrix\", pre_class=pre_class, post_class=post_class)\n",
    "pairs = pair_query.all()\n",
    "len(pairs)"
   ]
  },
  {
   "cell_type": "markdown",
   "metadata": {},
   "source": [
    "The results of this query can also be returned as a pandas dataframe:"
   ]
  },
  {
   "cell_type": "code",
   "execution_count": 12,
   "metadata": {},
   "outputs": [
    {
     "data": {
      "text/html": [
       "<div>\n",
       "<style scoped>\n",
       "    .dataframe tbody tr th:only-of-type {\n",
       "        vertical-align: middle;\n",
       "    }\n",
       "\n",
       "    .dataframe tbody tr th {\n",
       "        vertical-align: top;\n",
       "    }\n",
       "\n",
       "    .dataframe thead th {\n",
       "        text-align: right;\n",
       "    }\n",
       "</style>\n",
       "<table border=\"1\" class=\"dataframe\">\n",
       "  <thead>\n",
       "    <tr style=\"text-align: right;\">\n",
       "      <th></th>\n",
       "      <th>id</th>\n",
       "      <th>experiment_id</th>\n",
       "      <th>pre_cell_id</th>\n",
       "      <th>post_cell_id</th>\n",
       "      <th>synapse</th>\n",
       "      <th>electrical</th>\n",
       "      <th>crosstalk_artifact</th>\n",
       "      <th>n_ex_test_spikes</th>\n",
       "      <th>n_in_test_spikes</th>\n",
       "      <th>synapse_sign</th>\n",
       "      <th>distance</th>\n",
       "      <th>meta</th>\n",
       "    </tr>\n",
       "  </thead>\n",
       "  <tbody>\n",
       "    <tr>\n",
       "      <th>0</th>\n",
       "      <td>147344</td>\n",
       "      <td>4504</td>\n",
       "      <td>26407</td>\n",
       "      <td>26427</td>\n",
       "      <td>False</td>\n",
       "      <td>False</td>\n",
       "      <td>None</td>\n",
       "      <td>0</td>\n",
       "      <td>0</td>\n",
       "      <td>None</td>\n",
       "      <td>0.000216</td>\n",
       "      <td>None</td>\n",
       "    </tr>\n",
       "    <tr>\n",
       "      <th>1</th>\n",
       "      <td>147339</td>\n",
       "      <td>4504</td>\n",
       "      <td>26407</td>\n",
       "      <td>26423</td>\n",
       "      <td>False</td>\n",
       "      <td>False</td>\n",
       "      <td>None</td>\n",
       "      <td>0</td>\n",
       "      <td>0</td>\n",
       "      <td>None</td>\n",
       "      <td>0.000187</td>\n",
       "      <td>None</td>\n",
       "    </tr>\n",
       "    <tr>\n",
       "      <th>2</th>\n",
       "      <td>147318</td>\n",
       "      <td>4504</td>\n",
       "      <td>26407</td>\n",
       "      <td>26405</td>\n",
       "      <td>False</td>\n",
       "      <td>False</td>\n",
       "      <td>None</td>\n",
       "      <td>0</td>\n",
       "      <td>0</td>\n",
       "      <td>None</td>\n",
       "      <td>0.000069</td>\n",
       "      <td>None</td>\n",
       "    </tr>\n",
       "    <tr>\n",
       "      <th>3</th>\n",
       "      <td>147373</td>\n",
       "      <td>4504</td>\n",
       "      <td>26411</td>\n",
       "      <td>26427</td>\n",
       "      <td>False</td>\n",
       "      <td>False</td>\n",
       "      <td>None</td>\n",
       "      <td>0</td>\n",
       "      <td>0</td>\n",
       "      <td>None</td>\n",
       "      <td>0.000198</td>\n",
       "      <td>None</td>\n",
       "    </tr>\n",
       "    <tr>\n",
       "      <th>4</th>\n",
       "      <td>147366</td>\n",
       "      <td>4504</td>\n",
       "      <td>26411</td>\n",
       "      <td>26423</td>\n",
       "      <td>False</td>\n",
       "      <td>False</td>\n",
       "      <td>None</td>\n",
       "      <td>0</td>\n",
       "      <td>0</td>\n",
       "      <td>None</td>\n",
       "      <td>0.000165</td>\n",
       "      <td>None</td>\n",
       "    </tr>\n",
       "  </tbody>\n",
       "</table>\n",
       "</div>"
      ],
      "text/plain": [
       "       id  experiment_id  pre_cell_id  post_cell_id  synapse  electrical  \\\n",
       "0  147344           4504        26407         26427    False       False   \n",
       "1  147339           4504        26407         26423    False       False   \n",
       "2  147318           4504        26407         26405    False       False   \n",
       "3  147373           4504        26411         26427    False       False   \n",
       "4  147366           4504        26411         26423    False       False   \n",
       "\n",
       "  crosstalk_artifact  n_ex_test_spikes  n_in_test_spikes synapse_sign  \\\n",
       "0               None                 0                 0         None   \n",
       "1               None                 0                 0         None   \n",
       "2               None                 0                 0         None   \n",
       "3               None                 0                 0         None   \n",
       "4               None                 0                 0         None   \n",
       "\n",
       "   distance  meta  \n",
       "0  0.000216  None  \n",
       "1  0.000187  None  \n",
       "2  0.000069  None  \n",
       "3  0.000198  None  \n",
       "4  0.000165  None  "
      ]
     },
     "execution_count": 12,
     "metadata": {},
     "output_type": "execute_result"
    }
   ],
   "source": [
    "pair_df = db.dataframe(pair_query)\n",
    "pair_df.head()"
   ]
  },
  {
   "cell_type": "markdown",
   "metadata": {},
   "source": [
    "Of the 374 pairs that were probed in the dataset above, only a fraction of them were found to be connected by a synapse:"
   ]
  },
  {
   "cell_type": "code",
   "execution_count": 15,
   "metadata": {
    "scrolled": false
   },
   "outputs": [
    {
     "data": {
      "text/html": [
       "<div>\n",
       "<style scoped>\n",
       "    .dataframe tbody tr th:only-of-type {\n",
       "        vertical-align: middle;\n",
       "    }\n",
       "\n",
       "    .dataframe tbody tr th {\n",
       "        vertical-align: top;\n",
       "    }\n",
       "\n",
       "    .dataframe thead th {\n",
       "        text-align: right;\n",
       "    }\n",
       "</style>\n",
       "<table border=\"1\" class=\"dataframe\">\n",
       "  <thead>\n",
       "    <tr style=\"text-align: right;\">\n",
       "      <th></th>\n",
       "      <th>id</th>\n",
       "      <th>experiment_id</th>\n",
       "      <th>pre_cell_id</th>\n",
       "      <th>post_cell_id</th>\n",
       "      <th>synapse</th>\n",
       "      <th>electrical</th>\n",
       "      <th>crosstalk_artifact</th>\n",
       "      <th>n_ex_test_spikes</th>\n",
       "      <th>n_in_test_spikes</th>\n",
       "      <th>synapse_sign</th>\n",
       "      <th>distance</th>\n",
       "      <th>meta</th>\n",
       "    </tr>\n",
       "  </thead>\n",
       "  <tbody>\n",
       "    <tr>\n",
       "      <th>17</th>\n",
       "      <td>143916</td>\n",
       "      <td>4403</td>\n",
       "      <td>25787</td>\n",
       "      <td>25782</td>\n",
       "      <td>True</td>\n",
       "      <td>False</td>\n",
       "      <td>None</td>\n",
       "      <td>625</td>\n",
       "      <td>529</td>\n",
       "      <td>None</td>\n",
       "      <td>0.000173</td>\n",
       "      <td>None</td>\n",
       "    </tr>\n",
       "    <tr>\n",
       "      <th>109</th>\n",
       "      <td>63027</td>\n",
       "      <td>1880</td>\n",
       "      <td>11054</td>\n",
       "      <td>11052</td>\n",
       "      <td>True</td>\n",
       "      <td>False</td>\n",
       "      <td>None</td>\n",
       "      <td>260</td>\n",
       "      <td>236</td>\n",
       "      <td>None</td>\n",
       "      <td>0.000062</td>\n",
       "      <td>None</td>\n",
       "    </tr>\n",
       "    <tr>\n",
       "      <th>114</th>\n",
       "      <td>65576</td>\n",
       "      <td>1961</td>\n",
       "      <td>11529</td>\n",
       "      <td>11526</td>\n",
       "      <td>True</td>\n",
       "      <td>False</td>\n",
       "      <td>None</td>\n",
       "      <td>654</td>\n",
       "      <td>594</td>\n",
       "      <td>None</td>\n",
       "      <td>0.000043</td>\n",
       "      <td>None</td>\n",
       "    </tr>\n",
       "    <tr>\n",
       "      <th>116</th>\n",
       "      <td>64483</td>\n",
       "      <td>1930</td>\n",
       "      <td>11337</td>\n",
       "      <td>11341</td>\n",
       "      <td>True</td>\n",
       "      <td>False</td>\n",
       "      <td>None</td>\n",
       "      <td>612</td>\n",
       "      <td>492</td>\n",
       "      <td>None</td>\n",
       "      <td>0.000167</td>\n",
       "      <td>None</td>\n",
       "    </tr>\n",
       "    <tr>\n",
       "      <th>117</th>\n",
       "      <td>64480</td>\n",
       "      <td>1930</td>\n",
       "      <td>11337</td>\n",
       "      <td>11339</td>\n",
       "      <td>True</td>\n",
       "      <td>False</td>\n",
       "      <td>None</td>\n",
       "      <td>611</td>\n",
       "      <td>0</td>\n",
       "      <td>None</td>\n",
       "      <td>0.000067</td>\n",
       "      <td>None</td>\n",
       "    </tr>\n",
       "  </tbody>\n",
       "</table>\n",
       "</div>"
      ],
      "text/plain": [
       "         id  experiment_id  pre_cell_id  post_cell_id  synapse  electrical  \\\n",
       "17   143916           4403        25787         25782     True       False   \n",
       "109   63027           1880        11054         11052     True       False   \n",
       "114   65576           1961        11529         11526     True       False   \n",
       "116   64483           1930        11337         11341     True       False   \n",
       "117   64480           1930        11337         11339     True       False   \n",
       "\n",
       "    crosstalk_artifact  n_ex_test_spikes  n_in_test_spikes synapse_sign  \\\n",
       "17                None               625               529         None   \n",
       "109               None               260               236         None   \n",
       "114               None               654               594         None   \n",
       "116               None               612               492         None   \n",
       "117               None               611                 0         None   \n",
       "\n",
       "     distance  meta  \n",
       "17   0.000173  None  \n",
       "109  0.000062  None  \n",
       "114  0.000043  None  \n",
       "116  0.000167  None  \n",
       "117  0.000067  None  "
      ]
     },
     "execution_count": 15,
     "metadata": {},
     "output_type": "execute_result"
    }
   ],
   "source": [
    "connected_mask = pair_df['synapse'] == True\n",
    "pair_df[connected_mask].head()"
   ]
  },
  {
   "cell_type": "code",
   "execution_count": 32,
   "metadata": {
    "scrolled": true
   },
   "outputs": [
    {
     "data": {
      "text/plain": [
       "[Column('id', Integer(), table=<connection_strength>, primary_key=True, nullable=False),\n",
       " Column('pair_id', Integer(), ForeignKey('pair.id'), table=<connection_strength>),\n",
       " Column('synapse_type', String(), table=<connection_strength>),\n",
       " Column('ic_n_samples', Integer(), table=<connection_strength>),\n",
       " Column('ic_crosstalk_mean', FloatType(), table=<connection_strength>),\n",
       " Column('ic_base_crosstalk_mean', FloatType(), table=<connection_strength>),\n",
       " Column('ic_amp_mean', FloatType(), table=<connection_strength>),\n",
       " Column('ic_amp_stdev', FloatType(), table=<connection_strength>),\n",
       " Column('ic_base_amp_mean', FloatType(), table=<connection_strength>),\n",
       " Column('ic_base_amp_stdev', FloatType(), table=<connection_strength>),\n",
       " Column('ic_amp_ttest', FloatType(), table=<connection_strength>),\n",
       " Column('ic_amp_ks2samp', FloatType(), table=<connection_strength>),\n",
       " Column('ic_deconv_amp_mean', FloatType(), table=<connection_strength>),\n",
       " Column('ic_deconv_amp_stdev', FloatType(), table=<connection_strength>),\n",
       " Column('ic_base_deconv_amp_mean', FloatType(), table=<connection_strength>),\n",
       " Column('ic_base_deconv_amp_stdev', FloatType(), table=<connection_strength>),\n",
       " Column('ic_deconv_amp_ttest', FloatType(), table=<connection_strength>),\n",
       " Column('ic_deconv_amp_ks2samp', FloatType(), table=<connection_strength>),\n",
       " Column('ic_latency_mean', FloatType(), table=<connection_strength>),\n",
       " Column('ic_latency_stdev', FloatType(), table=<connection_strength>),\n",
       " Column('ic_base_latency_mean', FloatType(), table=<connection_strength>),\n",
       " Column('ic_base_latency_stdev', FloatType(), table=<connection_strength>),\n",
       " Column('ic_latency_ttest', FloatType(), table=<connection_strength>),\n",
       " Column('ic_latency_ks2samp', FloatType(), table=<connection_strength>),\n",
       " Column('vc_n_samples', Integer(), table=<connection_strength>),\n",
       " Column('vc_crosstalk_mean', FloatType(), table=<connection_strength>),\n",
       " Column('vc_base_crosstalk_mean', FloatType(), table=<connection_strength>),\n",
       " Column('vc_amp_mean', FloatType(), table=<connection_strength>),\n",
       " Column('vc_amp_stdev', FloatType(), table=<connection_strength>),\n",
       " Column('vc_base_amp_mean', FloatType(), table=<connection_strength>),\n",
       " Column('vc_base_amp_stdev', FloatType(), table=<connection_strength>),\n",
       " Column('vc_amp_ttest', FloatType(), table=<connection_strength>),\n",
       " Column('vc_amp_ks2samp', FloatType(), table=<connection_strength>),\n",
       " Column('vc_deconv_amp_mean', FloatType(), table=<connection_strength>),\n",
       " Column('vc_deconv_amp_stdev', FloatType(), table=<connection_strength>),\n",
       " Column('vc_base_deconv_amp_mean', FloatType(), table=<connection_strength>),\n",
       " Column('vc_base_deconv_amp_stdev', FloatType(), table=<connection_strength>),\n",
       " Column('vc_deconv_amp_ttest', FloatType(), table=<connection_strength>),\n",
       " Column('vc_deconv_amp_ks2samp', FloatType(), table=<connection_strength>),\n",
       " Column('vc_latency_mean', FloatType(), table=<connection_strength>),\n",
       " Column('vc_latency_stdev', FloatType(), table=<connection_strength>),\n",
       " Column('vc_base_latency_mean', FloatType(), table=<connection_strength>),\n",
       " Column('vc_base_latency_stdev', FloatType(), table=<connection_strength>),\n",
       " Column('vc_latency_ttest', FloatType(), table=<connection_strength>),\n",
       " Column('vc_latency_ks2samp', FloatType(), table=<connection_strength>),\n",
       " Column('ic_average_response', NDArray(), table=<connection_strength>),\n",
       " Column('ic_average_response_t0', FloatType(), table=<connection_strength>),\n",
       " Column('ic_average_base_stdev', FloatType(), table=<connection_strength>),\n",
       " Column('vc_average_response', NDArray(), table=<connection_strength>),\n",
       " Column('vc_average_response_t0', FloatType(), table=<connection_strength>),\n",
       " Column('vc_average_base_stdev', FloatType(), table=<connection_strength>),\n",
       " Column('ic_fit_amp', FloatType(), table=<connection_strength>),\n",
       " Column('ic_fit_xoffset', FloatType(), table=<connection_strength>),\n",
       " Column('ic_fit_yoffset', FloatType(), table=<connection_strength>),\n",
       " Column('ic_fit_rise_time', FloatType(), table=<connection_strength>),\n",
       " Column('ic_fit_rise_power', FloatType(), table=<connection_strength>),\n",
       " Column('ic_fit_decay_tau', FloatType(), table=<connection_strength>),\n",
       " Column('ic_fit_exp_amp', FloatType(), table=<connection_strength>),\n",
       " Column('ic_fit_nrmse', FloatType(), table=<connection_strength>),\n",
       " Column('vc_fit_amp', FloatType(), table=<connection_strength>),\n",
       " Column('vc_fit_xoffset', FloatType(), table=<connection_strength>),\n",
       " Column('vc_fit_yoffset', FloatType(), table=<connection_strength>),\n",
       " Column('vc_fit_rise_time', FloatType(), table=<connection_strength>),\n",
       " Column('vc_fit_rise_power', FloatType(), table=<connection_strength>),\n",
       " Column('vc_fit_decay_tau', FloatType(), table=<connection_strength>),\n",
       " Column('vc_fit_exp_amp', FloatType(), table=<connection_strength>),\n",
       " Column('vc_fit_nrmse', FloatType(), table=<connection_strength>),\n",
       " Column('meta', JSONObject(), table=<connection_strength>)]"
      ]
     },
     "execution_count": 32,
     "metadata": {},
     "output_type": "execute_result"
    }
   ],
   "source": [
    "list(pairs[0].connection_strength.__table__.columns)\n"
   ]
  },
  {
   "cell_type": "code",
   "execution_count": 40,
   "metadata": {},
   "outputs": [
    {
     "name": "stdout",
     "output_type": "stream",
     "text": [
      "Average PSP amplitude for L2/3 unknown->pvalb: 535774270.88 pA\n"
     ]
    }
   ],
   "source": [
    "amps = [pair.connection_strength.ic_fit_amp for pair in pairs if pair.synapse]\n",
    "amps = [amp for amp in amps if amp is not None]\n",
    "print(\"Average PSP amplitude for %s->%s: %0.2f pA\" % (pre_class, post_class, np.mean(amps)*1e12))"
   ]
  },
  {
   "cell_type": "code",
   "execution_count": 16,
   "metadata": {},
   "outputs": [],
   "source": [
    "\n",
    "\n",
    "\n",
    "\n",
    "#########    ^      ^    ^    ##########\n",
    "#########   END OF NOTEBOOK   ##########\n",
    "#########                     ##########\n",
    "#########                     ##########\n",
    "#########   HERE BE DRAGONS   ##########\n",
    "#########    v      v    v    ##########\n",
    "\n",
    "\n",
    "\n"
   ]
  },
  {
   "cell_type": "code",
   "execution_count": null,
   "metadata": {},
   "outputs": [],
   "source": []
  },
  {
   "cell_type": "code",
   "execution_count": null,
   "metadata": {},
   "outputs": [],
   "source": []
  },
  {
   "cell_type": "code",
   "execution_count": null,
   "metadata": {},
   "outputs": [],
   "source": []
  },
  {
   "cell_type": "code",
   "execution_count": 6,
   "metadata": {},
   "outputs": [
    {
     "data": {
      "text/plain": [
       "<pyqtgraph.console.Console.ConsoleWidget at 0x7fb5e0270938>"
      ]
     },
     "execution_count": 6,
     "metadata": {},
     "output_type": "execute_result"
    }
   ],
   "source": [
    "%gui qt4\n",
    "import pyqtgraph as pg\n",
    "pg.dbg()"
   ]
  },
  {
   "cell_type": "code",
   "execution_count": 5,
   "metadata": {},
   "outputs": [],
   "source": [
    "groups = classify_pairs(pairs, classes)"
   ]
  },
  {
   "cell_type": "markdown",
   "metadata": {},
   "source": [
    "The synaptic physiology dataset is stored in a relational database. The most important tables are:\n",
    "* `experiment` : one record per experiment performed, and links to all metadata about the conditions of each experiment\n",
    "* `cell` : one record per recorded cell, with information about location, morphology, intrinsic properties, and transgenic reporters.\n",
    "* `pair` : one record per _ordered pair_ of simultaneously recorded cells. From here we can find all pairs that were connected by chemical or electrical synapses, and link to the many characterized properties of these synapses. Note that _ordered pair_ means that the pair A->B is different from the pair B->A; we represent these as two separate records in the `pair` table.\n",
    "\n",
    "[ simplified diagram of DB table relationships ]"
   ]
  },
  {
   "cell_type": "markdown",
   "metadata": {},
   "source": [
    " We can access anything in the database using SQL queries, like:"
   ]
  },
  {
   "cell_type": "code",
   "execution_count": 4,
   "metadata": {},
   "outputs": [],
   "source": [
    "import pandas\n",
    "from multipatch_analysis import database as db"
   ]
  },
  {
   "cell_type": "code",
   "execution_count": 10,
   "metadata": {},
   "outputs": [
    {
     "data": {
      "text/html": [
       "<div>\n",
       "<style scoped>\n",
       "    .dataframe tbody tr th:only-of-type {\n",
       "        vertical-align: middle;\n",
       "    }\n",
       "\n",
       "    .dataframe tbody tr th {\n",
       "        vertical-align: top;\n",
       "    }\n",
       "\n",
       "    .dataframe thead th {\n",
       "        text-align: right;\n",
       "    }\n",
       "</style>\n",
       "<table border=\"1\" class=\"dataframe\">\n",
       "  <thead>\n",
       "    <tr style=\"text-align: right;\">\n",
       "      <th></th>\n",
       "      <th>id</th>\n",
       "      <th>target_region</th>\n",
       "      <th>genotype</th>\n",
       "      <th>species</th>\n",
       "    </tr>\n",
       "  </thead>\n",
       "  <tbody>\n",
       "    <tr>\n",
       "      <th>0</th>\n",
       "      <td>3941</td>\n",
       "      <td>VisP</td>\n",
       "      <td>Vip-IRES-Cre/wt;Sst-IRES-FlpO/wt;Ai65F/wt;Ai14...</td>\n",
       "      <td>mouse</td>\n",
       "    </tr>\n",
       "    <tr>\n",
       "      <th>1</th>\n",
       "      <td>3958</td>\n",
       "      <td>VisP</td>\n",
       "      <td>Vip-IRES-Cre/wt;Pvalb-T2A-FlpO/wt;Ai65F/Ai65F;...</td>\n",
       "      <td>mouse</td>\n",
       "    </tr>\n",
       "    <tr>\n",
       "      <th>2</th>\n",
       "      <td>3968</td>\n",
       "      <td>VisP</td>\n",
       "      <td>Ntsr1-Cre_GN220/wt;Pvalb-T2A-FlpO/wt;Ai65F/wt;...</td>\n",
       "      <td>mouse</td>\n",
       "    </tr>\n",
       "    <tr>\n",
       "      <th>3</th>\n",
       "      <td>3974</td>\n",
       "      <td>VisP</td>\n",
       "      <td>Sst-IRES-Cre/wt;Pvalb-T2A-FlpO/Pvalb-T2A-FlpO;...</td>\n",
       "      <td>mouse</td>\n",
       "    </tr>\n",
       "    <tr>\n",
       "      <th>4</th>\n",
       "      <td>3984</td>\n",
       "      <td>VisP</td>\n",
       "      <td>Ntsr1-Cre_GN220/wt;Sst-IRES-FlpO/wt;Ai65F/wt;A...</td>\n",
       "      <td>mouse</td>\n",
       "    </tr>\n",
       "  </tbody>\n",
       "</table>\n",
       "</div>"
      ],
      "text/plain": [
       "     id target_region                                           genotype  \\\n",
       "0  3941          VisP  Vip-IRES-Cre/wt;Sst-IRES-FlpO/wt;Ai65F/wt;Ai14...   \n",
       "1  3958          VisP  Vip-IRES-Cre/wt;Pvalb-T2A-FlpO/wt;Ai65F/Ai65F;...   \n",
       "2  3968          VisP  Ntsr1-Cre_GN220/wt;Pvalb-T2A-FlpO/wt;Ai65F/wt;...   \n",
       "3  3974          VisP  Sst-IRES-Cre/wt;Pvalb-T2A-FlpO/Pvalb-T2A-FlpO;...   \n",
       "4  3984          VisP  Ntsr1-Cre_GN220/wt;Sst-IRES-FlpO/wt;Ai65F/wt;A...   \n",
       "\n",
       "  species  \n",
       "0   mouse  \n",
       "1   mouse  \n",
       "2   mouse  \n",
       "3   mouse  \n",
       "4   mouse  "
      ]
     },
     "execution_count": 10,
     "metadata": {},
     "output_type": "execute_result"
    }
   ],
   "source": [
    "session = db.get_default_session()\n",
    "query = \"\"\"\n",
    "    select experiment.id, experiment.target_region, slice.genotype, slice.species from experiment\n",
    "    join slice on slice.id=experiment.slice_id\n",
    "    where project_name='mouse V1 coarse matrix'\n",
    "\"\"\"\n",
    "df = pandas.read_sql(query, session.bind)\n",
    "df.head()"
   ]
  },
  {
   "cell_type": "markdown",
   "metadata": {},
   "source": [
    "However, using SQL can be a lot of work when you need to traverse the relationships between many different tables. An easier approach is to use an \"object-relational mapper\" that represents the same database in a simplified way. For example, getting the lists of cells "
   ]
  },
  {
   "cell_type": "code",
   "execution_count": null,
   "metadata": {},
   "outputs": [],
   "source": [
    "# find all connections from Sst cells onto L5 pyramidal cells\n",
    "pairs = pair_query().filter()"
   ]
  },
  {
   "cell_type": "code",
   "execution_count": null,
   "metadata": {},
   "outputs": [],
   "source": []
  },
  {
   "cell_type": "markdown",
   "metadata": {},
   "source": [
    "## Scientific points to make\n",
    "- Synapses are stochastic\n",
    "- Synapses are dynamic\n",
    "- Inhibition in neurons is not like inhibition in neural networks"
   ]
  },
  {
   "cell_type": "markdown",
   "metadata": {},
   "source": [
    "## Project Ideas\n",
    "- Correlations / mapping between EM and MP\n",
    "- Network dynamics with mixed facilitating / depressing connections\n",
    "- Can stochasticity improve learning in spiking models?"
   ]
  },
  {
   "cell_type": "code",
   "execution_count": null,
   "metadata": {},
   "outputs": [],
   "source": []
  }
 ],
 "metadata": {
  "kernelspec": {
   "display_name": "Python 3",
   "language": "python",
   "name": "python3"
  },
  "language_info": {
   "codemirror_mode": {
    "name": "ipython",
    "version": 3
   },
   "file_extension": ".py",
   "mimetype": "text/x-python",
   "name": "python",
   "nbconvert_exporter": "python",
   "pygments_lexer": "ipython3",
   "version": "3.7.2"
  }
 },
 "nbformat": 4,
 "nbformat_minor": 2
}
